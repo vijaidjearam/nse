{
 "cells": [
  {
   "cell_type": "code",
   "execution_count": 82,
   "id": "1d3bd776-686a-4c4e-8e8c-be54ed9326ce",
   "metadata": {},
   "outputs": [],
   "source": [
    "import xlwings as xw\n",
    "import pandas as pd\n",
    "from nsepython import *\n",
    "from datetime import datetime, timedelta\n",
    "import math"
   ]
  },
  {
   "cell_type": "code",
   "execution_count": 83,
   "id": "ffae3b43-20dd-4271-be10-f810fbbf5531",
   "metadata": {},
   "outputs": [],
   "source": [
    "def gethighofadate(symbol, dt):\n",
    "    start_date = (datetime.today() - timedelta(days=7)).strftime(\"%m/%d/%Y\")\n",
    "    end_date = datetime.now().strftime(\"%m/%d/%Y\")\n",
    "    df = pd.DataFrame(index_history(symbol,start_date,end_date))\n",
    "    dt = dt.strftime(\"%d %b %Y\")\n",
    "    filt = (df['HistoricalDate'] == dt)\n",
    "    try:\n",
    "        result = df.loc[filt,'HIGH'].values[0]\n",
    "        return float(result)\n",
    "    except IndexError:\n",
    "        return \"NA\"\n",
    "    except ValueError as ve:\n",
    "        return ve\n",
    "def getlowofadate(symbol, dt):\n",
    "    start_date = (datetime.today() - timedelta(days=7)).strftime(\"%m/%d/%Y\")\n",
    "    end_date = datetime.now().strftime(\"%m/%d/%Y\")\n",
    "    df = pd.DataFrame(index_history(symbol,start_date,end_date))\n",
    "    dt = dt.strftime(\"%d %b %Y\")\n",
    "    filt = (df['HistoricalDate'] == dt)\n",
    "    try:\n",
    "        result = df.loc[filt,'LOW'].values[0]\n",
    "        return float(result)\n",
    "    except IndexError:\n",
    "        return \"NA\"\n",
    "def derivativehistorycallgetlowvalue(symbol,start_date,end_date,instrumentType,expiry_date,strikePrice):\n",
    "    optionType = \"CE\"\n",
    "    start_date = start_date.strftime(\"%d-%m-%Y\")\n",
    "    end_date = end_date.strftime(\"%d-%m-%Y\")\n",
    "    expiry_date = expiry_date.strftime(\"%d-%b-%Y\")\n",
    "    try:\n",
    "        df = pd.DataFrame(derivative_history(symbol,start_date,end_date,instrumentType,expiry_date,strikePrice,optionType))\n",
    "        result = (df['FH_TRADE_LOW_PRICE'].min())\n",
    "        return float(result)\n",
    "    except:\n",
    "        return \"NA\"\n",
    "def derivativehistoryputgetlowvalue(symbol,start_date,end_date,instrumentType,expiry_date,strikePrice,):\n",
    "    optionType = \"PE\"\n",
    "    start_date = start_date.strftime(\"%d-%m-%Y\")\n",
    "    end_date = end_date.strftime(\"%d-%m-%Y\")\n",
    "    expiry_date = expiry_date.strftime(\"%d-%b-%Y\")\n",
    "    try:\n",
    "        df = pd.DataFrame(derivative_history(symbol,start_date,end_date,instrumentType,expiry_date,strikePrice,optionType))\n",
    "        result = (df['FH_TRADE_LOW_PRICE'].max())\n",
    "        return float(result)\n",
    "    except:\n",
    "        return \"NA\"\n",
    "def round_up_to_base(x, base=50):\n",
    "    return x + (base - x) % base\n",
    "def round_down_to_base(x, base=50):\n",
    "    return x - (x % base)"
   ]
  },
  {
   "cell_type": "code",
   "execution_count": 84,
   "id": "2a2bd51b-0e84-4490-9f60-e43e5a52eae3",
   "metadata": {},
   "outputs": [],
   "source": [
    "# clear data \n",
    "wb = xw.Book('Formula R1 input data.xlsx') \n",
    "sheet = wb.sheets['R2']\n",
    "sheet.range(\"C5:F6\").clear_contents()\n",
    "sheet.range(\"K5:K6\").clear_contents()\n",
    "sheet.range(\"B10:F21\").clear_contents()\n",
    "sheet.range(\"H10:L21\").clear_contents()\n",
    "sheet.range(\"D24:D25\").clear_contents()\n",
    "sheet.range(\"J24:J25\").clear_contents()"
   ]
  },
  {
   "cell_type": "code",
   "execution_count": 85,
   "id": "21e53440-fb77-4439-b6ec-c844c2705d40",
   "metadata": {},
   "outputs": [],
   "source": [
    "# Filling rows 4,5,6\n",
    "symbol = \"NIFTY 50\"\n",
    "start_date = sheet['C4'].value\n",
    "end_date = sheet['D4'].value\n",
    "expiry_date = sheet['J3'].value\n",
    "instrumentType = \"options\"\n",
    "highofstartdate = gethighofadate(symbol,sheet['C4'].value)\n",
    "sheet['C5'].value= highofstartdate\n",
    "lowofstartdate = getlowofadate(symbol,sheet['C4'].value)\n",
    "sheet['C6'].value = lowofstartdate\n",
    "highofenddate = gethighofadate(symbol,sheet['D4'].value)\n",
    "sheet['D5'].value= highofenddate\n",
    "lowofenddate = getlowofadate(symbol,sheet['D4'].value)\n",
    "sheet['D6'].value = lowofenddate\n",
    "maxof2days = max(highofstartdate,highofenddate)\n",
    "sheet['E5'].value = maxof2days\n",
    "minof2days = min(lowofstartdate,lowofenddate)\n",
    "sheet['E6'].value = minof2days\n",
    "bufferhigh = round(maxof2days * 1.0015)\n",
    "sheet['F5'].value = bufferhigh\n",
    "bufferlow = round(minof2days * 0.9985)\n",
    "sheet['F6'].value = bufferlow\n",
    "callendstrike = round_down_to_base(bufferlow)\n",
    "sheet['K5'].value = callendstrike\n",
    "putendstrike = round_up_to_base(bufferhigh)\n",
    "sheet['K6'].value = putendstrike"
   ]
  },
  {
   "cell_type": "code",
   "execution_count": 86,
   "id": "21de76e4-77f0-4c38-8bb4-d5628411b387",
   "metadata": {},
   "outputs": [
    {
     "name": "stdout",
     "output_type": "stream",
     "text": [
      "{'data': [{'_id': '65ce14fa7e26484fc0b2b279', 'FH_INSTRUMENT': 'OPTIDX', 'FH_SYMBOL': 'NIFTY', 'FH_EXPIRY_DT': '15-Feb-2024', 'FH_STRIKE_PRICE': '21450.00', 'FH_OPTION_TYPE': 'CE', 'FH_MARKET_TYPE': 'N', 'FH_OPENING_PRICE': '472.60', 'FH_TRADE_HIGH_PRICE': '514.25', 'FH_TRADE_LOW_PRICE': '345.45', 'FH_CLOSING_PRICE': '456.75', 'FH_LAST_TRADED_PRICE': '461.25', 'FH_PREV_CLS': '426.70', 'FH_SETTLE_PRICE': '21910.75', 'FH_TOT_TRADED_QTY': '253450', 'FH_TOT_TRADED_VAL': '5546179745.00', 'FH_OPEN_INT': '25950', 'FH_CHANGE_IN_OI': '-26650.00', 'FH_MARKET_LOT': '50', 'FH_TIMESTAMP': '15-Feb-2024', 'TIMESTAMP': '2024-02-14T18:30:00.000Z', 'FH_UNDERLYING_VALUE': 21910.75, 'CALCULATED_PREMIUM_VAL': 109677245}, {'_id': '65ccd6017e26484fc0971caf', 'FH_INSTRUMENT': 'OPTIDX', 'FH_SYMBOL': 'NIFTY', 'FH_EXPIRY_DT': '15-Feb-2024', 'FH_STRIKE_PRICE': '21450.00', 'FH_OPTION_TYPE': 'CE', 'FH_MARKET_TYPE': 'N', 'FH_OPENING_PRICE': '184.35', 'FH_TRADE_HIGH_PRICE': '477.15', 'FH_TRADE_LOW_PRICE': '146.35', 'FH_CLOSING_PRICE': '426.70', 'FH_LAST_TRADED_PRICE': '441.10', 'FH_PREV_CLS': '330.60', 'FH_SETTLE_PRICE': '426.70', 'FH_TOT_TRADED_QTY': '9732250', 'FH_TOT_TRADED_VAL': '210716372105.00', 'FH_OPEN_INT': '52600', 'FH_CHANGE_IN_OI': '-16300.00', 'FH_MARKET_LOT': '50', 'FH_TIMESTAMP': '14-Feb-2024', 'TIMESTAMP': '2024-02-13T18:30:00.000Z', 'FH_UNDERLYING_VALUE': 21840.05, 'CALCULATED_PREMIUM_VAL': 1959609605}], 'meta': {'symbol': 'NIFTY', 'optionType': 'CE', 'expiryDate': '15-Feb-2024', 'strikePrice': '21450.00', 'instrumentType': 'OPTIDX', 'year': '2024', 'fromDate': '14-02-2024', 'toDate': '15-02-2024'}}\n"
     ]
    }
   ],
   "source": [
    "# finding CallEntryStrike 1st row\n",
    "symbol = \"NIFTY\"\n",
    "start_date = sheet['C4'].value\n",
    "end_date = sheet['D4'].value\n",
    "expiry_date = sheet['J3'].value\n",
    "instrumentType = \"options\"\n",
    "strike = []\n",
    "premium = []\n",
    "twodll = []\n",
    "strike.append(callendstrike)\n",
    "temppremium = callendstrike * (0.85/100)\n",
    "premium.append(temppremium)\n",
    "temptwodll = derivativehistorycallgetlowvalue(symbol,start_date,end_date,instrumentType,expiry_date,strikePrice=strike[0])\n",
    "twodll.append(temptwodll)"
   ]
  },
  {
   "cell_type": "code",
   "execution_count": 87,
   "id": "f2cc6bce-e8b2-4bf4-9023-7e0ba6f6d29b",
   "metadata": {},
   "outputs": [
    {
     "name": "stdout",
     "output_type": "stream",
     "text": [
      "   strike  premium  twodll   diff\n",
      "0   21450  182.325  146.35 -35.98\n",
      "nan\n"
     ]
    }
   ],
   "source": [
    "# Call Entry strke 2....n rows\n",
    "for i in range(1,9):\n",
    "    if twodll[-1] >= premium[-1]:\n",
    "        strike.append(strike[-1]+50)\n",
    "        premium.append(strike[-1]* (0.85/100))\n",
    "        twodll.append(derivativehistorycallgetlowvalue(symbol,start_date,end_date,instrumentType,expiry_date,strikePrice=strike[-1]))\n",
    "    else:\n",
    "        break\n",
    "calldf = pd.DataFrame({\"strike\":strike,\"premium\":premium,\"twodll\":twodll})\n",
    "calldf['diff']=round(calldf['twodll']-calldf['premium'],2)\n",
    "print (calldf)\n",
    "leastdiff = calldf.loc[calldf['diff']>0,'diff'].min()\n",
    "leastdiff = round(leastdiff,2)\n",
    "print (leastdiff)\n",
    "sheet['B10'].value = calldf    \n",
    "sheet['F21'].value = leastdiff\n",
    "if math.isnan(leastdiff):\n",
    "    callentrystrike = 'NA'\n",
    "    calltwodll = 'NA'\n",
    "else:\n",
    "    filt = (calldf['diff'] == leastdiff)\n",
    "    callentrystrike = calldf.loc[filt,'strike'].values[0]\n",
    "    calltwodll = calldf.loc[filt,'twodll'].values[0]\n",
    "sheet['D24'].value = callentrystrike\n",
    "sheet['D25'].value = calltwodll\n"
   ]
  },
  {
   "cell_type": "code",
   "execution_count": 88,
   "id": "3b14ac89-410b-4c82-9ca3-1ca293caa6cd",
   "metadata": {},
   "outputs": [
    {
     "name": "stdout",
     "output_type": "stream",
     "text": [
      "{'data': [{'_id': '65ce15146add4a917de1abba', 'FH_INSTRUMENT': 'OPTIDX', 'FH_SYMBOL': 'NIFTY', 'FH_EXPIRY_DT': '15-Feb-2024', 'FH_STRIKE_PRICE': '22000.00', 'FH_OPTION_TYPE': 'PE', 'FH_MARKET_TYPE': 'N', 'FH_OPENING_PRICE': '134.65', 'FH_TRADE_HIGH_PRICE': '214.70', 'FH_TRADE_LOW_PRICE': '54.00', 'FH_CLOSING_PRICE': '93.80', 'FH_LAST_TRADED_PRICE': '89.25', 'FH_PREV_CLS': '148.40', 'FH_SETTLE_PRICE': '21910.75', 'FH_TOT_TRADED_QTY': '182637850', 'FH_TOT_TRADED_VAL': '4038026446200.00', 'FH_OPEN_INT': '1845400', 'FH_CHANGE_IN_OI': '515000.00', 'FH_MARKET_LOT': '50', 'FH_TIMESTAMP': '15-Feb-2024', 'TIMESTAMP': '2024-02-14T18:30:00.000Z', 'FH_UNDERLYING_VALUE': 21910.75, 'CALCULATED_PREMIUM_VAL': 19993746200}, {'_id': '65ccd62d6add4a917daf1c02', 'FH_INSTRUMENT': 'OPTIDX', 'FH_SYMBOL': 'NIFTY', 'FH_EXPIRY_DT': '15-Feb-2024', 'FH_STRIKE_PRICE': '22000.00', 'FH_OPTION_TYPE': 'PE', 'FH_MARKET_TYPE': 'N', 'FH_OPENING_PRICE': '400.00', 'FH_TRADE_HIGH_PRICE': '480.00', 'FH_TRADE_LOW_PRICE': '122.55', 'FH_CLOSING_PRICE': '148.40', 'FH_LAST_TRADED_PRICE': '140.05', 'FH_PREV_CLS': '269.60', 'FH_SETTLE_PRICE': '148.40', 'FH_TOT_TRADED_QTY': '8249200', 'FH_TOT_TRADED_VAL': '183358220932.50', 'FH_OPEN_INT': '1330400', 'FH_CHANGE_IN_OI': '211400.00', 'FH_MARKET_LOT': '50', 'FH_TIMESTAMP': '14-Feb-2024', 'TIMESTAMP': '2024-02-13T18:30:00.000Z', 'FH_UNDERLYING_VALUE': 21840.05, 'CALCULATED_PREMIUM_VAL': 1875820932.5}], 'meta': {'symbol': 'NIFTY', 'optionType': 'PE', 'expiryDate': '15-Feb-2024', 'strikePrice': '22000.00', 'instrumentType': 'OPTIDX', 'year': '2024', 'fromDate': '14-02-2024', 'toDate': '15-02-2024'}}\n"
     ]
    }
   ],
   "source": [
    "# finding PutEntryStrike 1st row\n",
    "symbol = \"NIFTY\"\n",
    "start_date = sheet['C4'].value\n",
    "end_date = sheet['D4'].value\n",
    "expiry_date = sheet['J3'].value\n",
    "instrumentType = \"options\"\n",
    "strike = []\n",
    "premium = []\n",
    "twodll = []\n",
    "strike.append(putendstrike)\n",
    "temppremium = putendstrike * (0.85/100)\n",
    "premium.append(temppremium)\n",
    "temptwodll = derivativehistoryputgetlowvalue(symbol,start_date,end_date,instrumentType,expiry_date,strikePrice=strike[0])\n",
    "twodll.append(temptwodll)"
   ]
  },
  {
   "cell_type": "code",
   "execution_count": 89,
   "id": "98076737-9cc2-4f30-a910-665366a67f73",
   "metadata": {},
   "outputs": [
    {
     "name": "stdout",
     "output_type": "stream",
     "text": [
      "   strike  premium  twodll   diff\n",
      "0   21450  182.325  146.35 -35.98\n",
      "nan\n"
     ]
    }
   ],
   "source": [
    "# Put Entry strke 2....n rows\n",
    "for i in range(1,9):\n",
    "    if twodll[-1] >= premium[-1]:\n",
    "        strike.append(strike[-1]-50)\n",
    "        premium.append(strike[-1]* (0.85/100))\n",
    "        twodll.append(derivativehistoryputgetlowvalue(symbol,start_date,end_date,instrumentType,expiry_date,strikePrice=strike[-1]))\n",
    "    else:\n",
    "        break\n",
    "putdf = pd.DataFrame({\"strike\":strike,\"premium\":premium,\"twodll\":twodll})\n",
    "putdf['diff']=round(putdf['twodll']-putdf['premium'],2)\n",
    "print (calldf)\n",
    "leastdiff = putdf.loc[putdf['diff']>0,'diff'].min()\n",
    "leastdiff = round(leastdiff,2)\n",
    "print (leastdiff)\n",
    "sheet['H10'].value = putdf    \n",
    "sheet['L21'].value = leastdiff\n",
    "if math.isnan(leastdiff):\n",
    "    putentrystrike = 'NA'\n",
    "    puttwodll = 'NA'\n",
    "else:\n",
    "    filt = (putdf['diff'] == leastdiff)\n",
    "    putentrystrike = putdf.loc[filt,'strike'].values[0]\n",
    "    puttwodll = putdf.loc[filt,'twodll'].values[0]\n",
    "\n",
    "sheet['J24'].value = putentrystrike\n",
    "sheet['J25'].value = puttwodll"
   ]
  },
  {
   "cell_type": "code",
   "execution_count": null,
   "id": "24094cb6-f270-49d2-b24e-00e60be848c2",
   "metadata": {},
   "outputs": [],
   "source": []
  }
 ],
 "metadata": {
  "kernelspec": {
   "display_name": "Python 3 (ipykernel)",
   "language": "python",
   "name": "python3"
  },
  "language_info": {
   "codemirror_mode": {
    "name": "ipython",
    "version": 3
   },
   "file_extension": ".py",
   "mimetype": "text/x-python",
   "name": "python",
   "nbconvert_exporter": "python",
   "pygments_lexer": "ipython3",
   "version": "3.12.2"
  }
 },
 "nbformat": 4,
 "nbformat_minor": 5
}
