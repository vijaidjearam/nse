{
 "cells": [
  {
   "cell_type": "code",
   "execution_count": 44,
   "id": "8e6ed310-3482-4729-a035-5e680156bc8d",
   "metadata": {},
   "outputs": [],
   "source": [
    "import xlwings as xw"
   ]
  },
  {
   "cell_type": "code",
   "execution_count": 45,
   "id": "f43f8aad-08d7-4365-83e9-8bd38a77cfd3",
   "metadata": {},
   "outputs": [],
   "source": [
    "wb = xw.Book('Formula R1 input data.xlsx') \n",
    "sheet = wb.sheets['R1']\n",
    "sheet.range(\"C5:D6\").clear_contents()\n",
    "sheet.range(\"C11:C19\").clear_contents()\n",
    "sheet.range(\"E11:E20\").clear_contents()\n",
    "sheet.range(\"I11:I19\").clear_contents()\n",
    "sheet.range(\"K11:K20\").clear_contents()"
   ]
  },
  {
   "cell_type": "code",
   "execution_count": 46,
   "id": "cb1158b8-20b4-4d8b-9367-1bc8129bf961",
   "metadata": {},
   "outputs": [
    {
     "name": "stdout",
     "output_type": "stream",
     "text": [
      "  Index Name INDEX_NAME HistoricalDate      OPEN      HIGH       LOW     CLOSE\n",
      "0   Nifty 50   Nifty 50    05 Feb 2024  21921.05   21964.3  21726.95  21771.70\n",
      "1   Nifty 50   Nifty 50    02 Feb 2024  21812.75   22126.8  21805.55  21853.80\n",
      "2   Nifty 50   Nifty 50    01 Feb 2024  21780.65  21832.95  21658.75  21697.45\n",
      "3   Nifty 50   Nifty 50    31 Jan 2024  21487.25  21741.35  21448.85  21725.70\n",
      "4   Nifty 50   Nifty 50    30 Jan 2024  21775.75  21813.05   21501.8  21522.10\n",
      "5   Nifty 50   Nifty 50    29 Jan 2024   21433.1  21763.25   21429.6  21737.60\n"
     ]
    }
   ],
   "source": [
    "from nsepython import *\n",
    "from datetime import datetime, timedelta\n",
    "symbol = \"NIFTY 50\"\n",
    "start_date = (datetime.today() - timedelta(days=7)).strftime('%Y-%m-%d')\n",
    "end_date = datetime.today().strftime('%Y-%m-%d')\n",
    "df = index_history(symbol,start_date,end_date)\n",
    "print(df)"
   ]
  },
  {
   "cell_type": "markdown",
   "id": "1bcfef60-d4cf-44e6-9ce7-b02a29246ba8",
   "metadata": {},
   "source": []
  },
  {
   "cell_type": "code",
   "execution_count": 47,
   "id": "00d7bcfa-99fc-48fb-966a-609e2dc08f1d",
   "metadata": {},
   "outputs": [],
   "source": [
    "date = sheet['C4'].value.strftime('%d %b %Y')\n",
    "t = df.query(\"HistoricalDate == @date\").iloc[0]['HIGH']\n",
    "sheet['C5'].value = t\n",
    "t = df.query(\"HistoricalDate == @date\").iloc[0]['LOW']\n",
    "sheet['C6'].value = t\n",
    "end_date = sheet['D4'].value.strftime('%d %b %Y')\n",
    "t = df.query(\"HistoricalDate == @date\").iloc[0]['HIGH']\n",
    "sheet['D5'].value = t\n",
    "t = df.query(\"HistoricalDate == @date\").iloc[0]['LOW']\n",
    "sheet['D6'].value = t"
   ]
  },
  {
   "cell_type": "code",
   "execution_count": 48,
   "id": "5339cc72-9e4f-4081-9a09-55ce1d624331",
   "metadata": {},
   "outputs": [
    {
     "name": "stdout",
     "output_type": "stream",
     "text": [
      "{'data': [{'_id': '65bcefe66add4a917d874e9b', 'FH_INSTRUMENT': 'OPTIDX', 'FH_SYMBOL': 'NIFTY', 'FH_EXPIRY_DT': '08-Feb-2024', 'FH_STRIKE_PRICE': '21600.00', 'FH_OPTION_TYPE': 'CE', 'FH_MARKET_TYPE': 'N', 'FH_OPENING_PRICE': '250.00', 'FH_TRADE_HIGH_PRICE': '583.95', 'FH_TRADE_LOW_PRICE': '249.95', 'FH_CLOSING_PRICE': '340.15', 'FH_LAST_TRADED_PRICE': '335.90', 'FH_PREV_CLS': '223.05', 'FH_SETTLE_PRICE': '340.15', 'FH_TOT_TRADED_QTY': '3653150', 'FH_TOT_TRADED_VAL': '80386302735.00', 'FH_OPEN_INT': '410700', 'FH_CHANGE_IN_OI': '-263650.00', 'FH_MARKET_LOT': '50', 'FH_TIMESTAMP': '02-Feb-2024', 'TIMESTAMP': '2024-02-01T18:30:00.000Z', 'FH_UNDERLYING_VALUE': 21853.8, 'CALCULATED_PREMIUM_VAL': 1478262735}, {'_id': '65bb9c0a6add4a917d5222ba', 'FH_INSTRUMENT': 'OPTIDX', 'FH_SYMBOL': 'NIFTY', 'FH_EXPIRY_DT': '08-Feb-2024', 'FH_STRIKE_PRICE': '21600.00', 'FH_OPTION_TYPE': 'CE', 'FH_MARKET_TYPE': 'N', 'FH_OPENING_PRICE': '357.95', 'FH_TRADE_HIGH_PRICE': '382.85', 'FH_TRADE_LOW_PRICE': '211.70', 'FH_CLOSING_PRICE': '223.05', 'FH_LAST_TRADED_PRICE': '219.30', 'FH_PREV_CLS': '334.40', 'FH_SETTLE_PRICE': '223.05', 'FH_TOT_TRADED_QTY': '4062350', 'FH_TOT_TRADED_VAL': '88921662477.50', 'FH_OPEN_INT': '674350', 'FH_CHANGE_IN_OI': '266850.00', 'FH_MARKET_LOT': '50', 'FH_TIMESTAMP': '01-Feb-2024', 'TIMESTAMP': '2024-01-31T18:30:00.000Z', 'FH_UNDERLYING_VALUE': 21697.45, 'CALCULATED_PREMIUM_VAL': 1174902477.5}], 'meta': {'symbol': 'NIFTY', 'optionType': 'CE', 'expiryDate': '08-Feb-2024', 'strikePrice': '21600.00', 'instrumentType': 'OPTIDX', 'year': '2024', 'fromDate': '01-02-2024', 'toDate': '02-02-2024'}}\n",
      "                        _id FH_INSTRUMENT FH_SYMBOL FH_EXPIRY_DT  \\\n",
      "0  65bb9c0a6add4a917d5222ba        OPTIDX     NIFTY  08-Feb-2024   \n",
      "1  65bcefe66add4a917d874e9b        OPTIDX     NIFTY  08-Feb-2024   \n",
      "\n",
      "  FH_STRIKE_PRICE FH_OPTION_TYPE FH_MARKET_TYPE FH_OPENING_PRICE  \\\n",
      "0        21600.00             CE              N           357.95   \n",
      "1        21600.00             CE              N           250.00   \n",
      "\n",
      "  FH_TRADE_HIGH_PRICE FH_TRADE_LOW_PRICE  ... FH_SETTLE_PRICE  \\\n",
      "0              382.85             211.70  ...          223.05   \n",
      "1              583.95             249.95  ...          340.15   \n",
      "\n",
      "  FH_TOT_TRADED_QTY FH_TOT_TRADED_VAL FH_OPEN_INT FH_CHANGE_IN_OI  \\\n",
      "0           4062350    88921662477.50      674350       266850.00   \n",
      "1           3653150    80386302735.00      410700      -263650.00   \n",
      "\n",
      "  FH_MARKET_LOT FH_TIMESTAMP                 TIMESTAMP FH_UNDERLYING_VALUE  \\\n",
      "0            50  01-Feb-2024  2024-01-31T18:30:00.000Z            21697.45   \n",
      "1            50  02-Feb-2024  2024-02-01T18:30:00.000Z            21853.80   \n",
      "\n",
      "  CALCULATED_PREMIUM_VAL  \n",
      "0           1.174902e+09  \n",
      "1           1.478263e+09  \n",
      "\n",
      "[2 rows x 23 columns]\n"
     ]
    }
   ],
   "source": [
    "symbol = \"NIFTY\"\n",
    "start_date = sheet['C4'].value.strftime('%d-%m-%Y')\n",
    "end_date = sheet['D4'].value.strftime('%d-%m-%Y')\n",
    "instrumentType = \"options\"\n",
    "expiry_date = sheet['J3'].value.strftime('%d-%b-%Y')\n",
    "strikePrice = sheet['C20'].value\n",
    "optionType=\"CE\"\n",
    "df = derivative_history(symbol,start_date,end_date,instrumentType,expiry_date,strikePrice,optionType)\n",
    "print (df)\n",
    "sheet['E20'].value = df['FH_TRADE_LOW_PRICE'].min()"
   ]
  },
  {
   "cell_type": "code",
   "execution_count": 49,
   "id": "706d0067-50b2-4753-8ed2-54e19e86d3d5",
   "metadata": {},
   "outputs": [
    {
     "name": "stdout",
     "output_type": "stream",
     "text": [
      "x :  19\n",
      "{'data': [{'_id': '65bcef8d7e26484fc049cc75', 'FH_INSTRUMENT': 'OPTIDX', 'FH_SYMBOL': 'NIFTY', 'FH_EXPIRY_DT': '08-Feb-2024', 'FH_STRIKE_PRICE': '21650.00', 'FH_OPTION_TYPE': 'CE', 'FH_MARKET_TYPE': 'N', 'FH_OPENING_PRICE': '192.90', 'FH_TRADE_HIGH_PRICE': '538.15', 'FH_TRADE_LOW_PRICE': '191.00', 'FH_CLOSING_PRICE': '303.05', 'FH_LAST_TRADED_PRICE': '297.25', 'FH_PREV_CLS': '193.15', 'FH_SETTLE_PRICE': '303.05', 'FH_TOT_TRADED_QTY': '1583050', 'FH_TOT_TRADED_VAL': '34831602522.50', 'FH_OPEN_INT': '137550', 'FH_CHANGE_IN_OI': '-200550.00', 'FH_MARKET_LOT': '50', 'FH_TIMESTAMP': '02-Feb-2024', 'TIMESTAMP': '2024-02-01T18:30:00.000Z', 'FH_UNDERLYING_VALUE': 21853.8, 'CALCULATED_PREMIUM_VAL': 558570022.5}, {'_id': '65bb9bf17e26484fc03a453c', 'FH_INSTRUMENT': 'OPTIDX', 'FH_SYMBOL': 'NIFTY', 'FH_EXPIRY_DT': '08-Feb-2024', 'FH_STRIKE_PRICE': '21650.00', 'FH_OPTION_TYPE': 'CE', 'FH_MARKET_TYPE': 'N', 'FH_OPENING_PRICE': '313.75', 'FH_TRADE_HIGH_PRICE': '349.35', 'FH_TRADE_LOW_PRICE': '183.65', 'FH_CLOSING_PRICE': '193.15', 'FH_LAST_TRADED_PRICE': '192.90', 'FH_PREV_CLS': '306.10', 'FH_SETTLE_PRICE': '193.15', 'FH_TOT_TRADED_QTY': '2183100', 'FH_TOT_TRADED_VAL': '47812793205.00', 'FH_OPEN_INT': '338100', 'FH_CHANGE_IN_OI': '189150.00', 'FH_MARKET_LOT': '50', 'FH_TIMESTAMP': '01-Feb-2024', 'TIMESTAMP': '2024-01-31T18:30:00.000Z', 'FH_UNDERLYING_VALUE': 21697.45, 'CALCULATED_PREMIUM_VAL': 548678205}], 'meta': {'symbol': 'NIFTY', 'optionType': 'CE', 'expiryDate': '08-Feb-2024', 'strikePrice': '21650.00', 'instrumentType': 'OPTIDX', 'year': '2024', 'fromDate': '01-02-2024', 'toDate': '02-02-2024'}}\n",
      "x :  18\n"
     ]
    }
   ],
   "source": [
    "for x in range(19,10,-1):\n",
    "    print('x :  '+ str(x))\n",
    "    cellindexprevious = 'C'+ str(x+1)\n",
    "    cellindexcurrent = 'C'+ str(x)\n",
    "    sheet[cellindexcurrent].value = sheet[cellindexprevious].value + 50\n",
    "    DLLprevious = 'E'+ str(x+1)\n",
    "    Premium = 'D'+ str(x+1)\n",
    "    if sheet[DLLprevious].value >= sheet[Premium].value:\n",
    "        strikePrice = sheet[cellindexcurrent].value\n",
    "        df = derivative_history(symbol,start_date,end_date,instrumentType,expiry_date,strikePrice,optionType)\n",
    "        DLL = 'E'+ str(x)\n",
    "        sheet[DLL].value = df['FH_TRADE_LOW_PRICE'].min()\n",
    "    else:\n",
    "        break"
   ]
  },
  {
   "cell_type": "code",
   "execution_count": 51,
   "id": "00e66601-6fb0-4aeb-bade-224c1fcd131f",
   "metadata": {},
   "outputs": [
    {
     "name": "stdout",
     "output_type": "stream",
     "text": [
      "{'data': [{'_id': '65bcef8d7e26484fc049d9d9', 'FH_INSTRUMENT': 'OPTIDX', 'FH_SYMBOL': 'NIFTY', 'FH_EXPIRY_DT': '08-Feb-2024', 'FH_STRIKE_PRICE': '21900.00', 'FH_OPTION_TYPE': 'PE', 'FH_MARKET_TYPE': 'N', 'FH_OPENING_PRICE': '200.00', 'FH_TRADE_HIGH_PRICE': '200.00', 'FH_TRADE_LOW_PRICE': '77.50', 'FH_CLOSING_PRICE': '162.55', 'FH_LAST_TRADED_PRICE': '158.05', 'FH_PREV_CLS': '283.05', 'FH_SETTLE_PRICE': '162.55', 'FH_TOT_TRADED_QTY': '119765900', 'FH_TOT_TRADED_VAL': '2638576602972.50', 'FH_OPEN_INT': '2307250', 'FH_CHANGE_IN_OI': '2014650.00', 'FH_MARKET_LOT': '50', 'FH_TIMESTAMP': '02-Feb-2024', 'TIMESTAMP': '2024-02-01T18:30:00.000Z', 'FH_UNDERLYING_VALUE': 21853.8, 'CALCULATED_PREMIUM_VAL': 15703392972.5}, {'_id': '65bb9bf07e26484fc039be20', 'FH_INSTRUMENT': 'OPTIDX', 'FH_SYMBOL': 'NIFTY', 'FH_EXPIRY_DT': '08-Feb-2024', 'FH_STRIKE_PRICE': '21900.00', 'FH_OPTION_TYPE': 'PE', 'FH_MARKET_TYPE': 'N', 'FH_OPENING_PRICE': '300.10', 'FH_TRADE_HIGH_PRICE': '337.30', 'FH_TRADE_LOW_PRICE': '244.45', 'FH_CLOSING_PRICE': '283.05', 'FH_LAST_TRADED_PRICE': '290.25', 'FH_PREV_CLS': '326.55', 'FH_SETTLE_PRICE': '283.05', 'FH_TOT_TRADED_QTY': '2874200', 'FH_TOT_TRADED_VAL': '63754205027.50', 'FH_OPEN_INT': '292600', 'FH_CHANGE_IN_OI': '145650.00', 'FH_MARKET_LOT': '50', 'FH_TIMESTAMP': '01-Feb-2024', 'TIMESTAMP': '2024-01-31T18:30:00.000Z', 'FH_UNDERLYING_VALUE': 21697.45, 'CALCULATED_PREMIUM_VAL': 809225027.5}], 'meta': {'symbol': 'NIFTY', 'optionType': 'PE', 'expiryDate': '08-Feb-2024', 'strikePrice': '21900.00', 'instrumentType': 'OPTIDX', 'year': '2024', 'fromDate': '01-02-2024', 'toDate': '02-02-2024'}}\n",
      "                        _id FH_INSTRUMENT FH_SYMBOL FH_EXPIRY_DT  \\\n",
      "0  65bb9bf07e26484fc039be20        OPTIDX     NIFTY  08-Feb-2024   \n",
      "1  65bcef8d7e26484fc049d9d9        OPTIDX     NIFTY  08-Feb-2024   \n",
      "\n",
      "  FH_STRIKE_PRICE FH_OPTION_TYPE FH_MARKET_TYPE FH_OPENING_PRICE  \\\n",
      "0        21900.00             PE              N           300.10   \n",
      "1        21900.00             PE              N           200.00   \n",
      "\n",
      "  FH_TRADE_HIGH_PRICE FH_TRADE_LOW_PRICE  ... FH_SETTLE_PRICE  \\\n",
      "0              337.30             244.45  ...          283.05   \n",
      "1              200.00              77.50  ...          162.55   \n",
      "\n",
      "  FH_TOT_TRADED_QTY FH_TOT_TRADED_VAL FH_OPEN_INT FH_CHANGE_IN_OI  \\\n",
      "0           2874200    63754205027.50      292600       145650.00   \n",
      "1         119765900  2638576602972.50     2307250      2014650.00   \n",
      "\n",
      "  FH_MARKET_LOT FH_TIMESTAMP                 TIMESTAMP FH_UNDERLYING_VALUE  \\\n",
      "0            50  01-Feb-2024  2024-01-31T18:30:00.000Z            21697.45   \n",
      "1            50  02-Feb-2024  2024-02-01T18:30:00.000Z            21853.80   \n",
      "\n",
      "  CALCULATED_PREMIUM_VAL  \n",
      "0           8.092250e+08  \n",
      "1           1.570339e+10  \n",
      "\n",
      "[2 rows x 23 columns]\n",
      "77.50\n"
     ]
    }
   ],
   "source": [
    "symbol = \"NIFTY\"\n",
    "start_data = sheet['C4'].value.strftime('%d-%m-%Y')\n",
    "end_date = sheet['D4'].value.strftime('%d-%m-%Y')\n",
    "instrumentType = \"options\"\n",
    "expiry_date = sheet['J3'].value.strftime('%d-%b-%Y')\n",
    "strikePrice = sheet['I20'].value\n",
    "optionType=\"PE\"\n",
    "df = derivative_history(symbol,start_date,end_date,instrumentType,expiry_date,strikePrice,optionType)\n",
    "print(df)\n",
    "print(df['FH_TRADE_LOW_PRICE'].max())\n",
    "sheet['K20'].value = df['FH_TRADE_LOW_PRICE'].max()"
   ]
  },
  {
   "cell_type": "code",
   "execution_count": 52,
   "id": "1c393940-12f3-44be-9a6a-1ed0d4e1e710",
   "metadata": {},
   "outputs": [
    {
     "name": "stdout",
     "output_type": "stream",
     "text": [
      "x :  19\n"
     ]
    }
   ],
   "source": [
    "for x in range(19,10,-1):\n",
    "    print('x :  '+ str(x))\n",
    "    cellindexprevious = 'I'+ str(x+1)\n",
    "    cellindexcurrent = 'I'+ str(x)\n",
    "    sheet[cellindexcurrent].value = sheet[cellindexprevious].value - 50\n",
    "    DLLprevious = 'K'+ str(x+1)\n",
    "    Premium = 'J'+ str(x+1)\n",
    "    if sheet[DLLprevious].value >= sheet[Premium].value:\n",
    "        strikePrice = sheet[cellindexcurrent].value\n",
    "        df = derivative_history(symbol,start_date,end_date,instrumentType,expiry_date,strikePrice,optionType)\n",
    "        DLL = 'K'+ str(x)\n",
    "        sheet[DLL].value = df['FH_TRADE_LOW_PRICE'].max()\n",
    "    else:\n",
    "        break"
   ]
  },
  {
   "cell_type": "code",
   "execution_count": null,
   "id": "17214363-02e0-44bf-9dbd-a818f5c4fe44",
   "metadata": {},
   "outputs": [],
   "source": []
  },
  {
   "cell_type": "code",
   "execution_count": null,
   "id": "9c09a692-5c5d-4e75-bfa0-9190593a04b7",
   "metadata": {},
   "outputs": [],
   "source": []
  }
 ],
 "metadata": {
  "kernelspec": {
   "display_name": "Python 3 (ipykernel)",
   "language": "python",
   "name": "python3"
  },
  "language_info": {
   "codemirror_mode": {
    "name": "ipython",
    "version": 3
   },
   "file_extension": ".py",
   "mimetype": "text/x-python",
   "name": "python",
   "nbconvert_exporter": "python",
   "pygments_lexer": "ipython3",
   "version": "3.12.1"
  }
 },
 "nbformat": 4,
 "nbformat_minor": 5
}
