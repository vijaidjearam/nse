{
 "cells": [
  {
   "cell_type": "code",
   "execution_count": null,
   "id": "1d3bd776-686a-4c4e-8e8c-be54ed9326ce",
   "metadata": {},
   "outputs": [],
   "source": [
    "import xlwings as xw\n",
    "import pandas as pd\n",
    "from nsepython import *\n",
    "from datetime import datetime, timedelta"
   ]
  },
  {
   "cell_type": "code",
   "execution_count": 12,
   "id": "ffae3b43-20dd-4271-be10-f810fbbf5531",
   "metadata": {},
   "outputs": [],
   "source": [
    "def gethighofadate(symbol, dt):\n",
    "    start_date = (datetime.today() - timedelta(days=7)).strftime(\"%m/%d/%Y\")\n",
    "    end_date = datetime.now().strftime(\"%m/%d/%Y\")\n",
    "    df = pd.DataFrame(index_history(symbol,start_date,end_date))\n",
    "    dt = dt.strftime(\"%d %b %Y\")\n",
    "    filt = (df['HistoricalDate'] == dt)\n",
    "    try:\n",
    "        result = df.loc[filt,'HIGH'].values[0]\n",
    "        return float(result)\n",
    "    except IndexError:\n",
    "        return \"NA\"\n",
    "    except ValueError as ve:\n",
    "        return ve\n",
    "def getlowofadate(symbol, dt):\n",
    "    start_date = (datetime.today() - timedelta(days=7)).strftime(\"%m/%d/%Y\")\n",
    "    end_date = datetime.now().strftime(\"%m/%d/%Y\")\n",
    "    df = pd.DataFrame(index_history(symbol,start_date,end_date))\n",
    "    dt = dt.strftime(\"%d %b %Y\")\n",
    "    filt = (df['HistoricalDate'] == dt)\n",
    "    try:\n",
    "        result = df.loc[filt,'LOW'].values[0]\n",
    "        return float(result)\n",
    "    except IndexError:\n",
    "        return \"NA\"\n",
    "def derivativehistorycallgetlowvalue(symbol,start_date,end_date,instrumentType,expiry_date,strikePrice):\n",
    "    optionType = \"CE\"\n",
    "    start_date = start_date.strftime(\"%d-%m-%Y\")\n",
    "    end_date = end_date.strftime(\"%d-%m-%Y\")\n",
    "    expiry_date = expiry_date.strftime(\"%d-%b-%Y\")\n",
    "    try:\n",
    "        df = pd.DataFrame(derivative_history(symbol,start_date,end_date,instrumentType,expiry_date,strikePrice,optionType))\n",
    "        result = (df['FH_TRADE_LOW_PRICE'].min())\n",
    "        return float(result)\n",
    "    except:\n",
    "        return \"NA\"\n",
    "def derivativehistoryputgetlowvalue(symbol,start_date,end_date,instrumentType,expiry_date,strikePrice,):\n",
    "    optionType = \"PE\"\n",
    "    start_date = start_date.strftime(\"%d-%m-%Y\")\n",
    "    end_date = end_date.strftime(\"%d-%m-%Y\")\n",
    "    expiry_date = expiry_date.strftime(\"%d-%b-%Y\")\n",
    "    try:\n",
    "        df = pd.DataFrame(derivative_history(symbol,start_date,end_date,instrumentType,expiry_date,strikePrice,optionType))\n",
    "        result = (df['FH_TRADE_LOW_PRICE'].max())\n",
    "        return float(result)\n",
    "    except:\n",
    "        return \"NA\"\n",
    "def round_up_to_base(x, base=50):\n",
    "    return x + (base - x) % base\n",
    "def round_down_to_base(x, base=50):\n",
    "    return x - (x % base)"
   ]
  },
  {
   "cell_type": "code",
   "execution_count": 7,
   "id": "2a2bd51b-0e84-4490-9f60-e43e5a52eae3",
   "metadata": {},
   "outputs": [],
   "source": [
    "# clear data \n",
    "wb = xw.Book('Formula R1 input data.xlsx') \n",
    "sheet = wb.sheets['R2']\n",
    "sheet.range(\"C5:D6\").clear_contents()\n",
    "sheet.range(\"C11:C19\").clear_contents()\n",
    "sheet.range(\"E11:E20\").clear_contents()\n",
    "sheet.range(\"I11:I19\").clear_contents()\n",
    "sheet.range(\"K11:K20\").clear_contents()"
   ]
  },
  {
   "cell_type": "code",
   "execution_count": 10,
   "id": "21e53440-fb77-4439-b6ec-c844c2705d40",
   "metadata": {},
   "outputs": [],
   "source": [
    "# Filling rows 4,5,6\n",
    "symbol = \"NIFTY 50\"\n",
    "start_date = sheet['C4'].value\n",
    "end_date = sheet['D4'].value\n",
    "expiry_date = sheet['J3'].value\n",
    "instrumentType = \"options\"\n",
    "highofstartdate = gethighofadate(symbol,sheet['C4'].value)\n",
    "sheet['C5'].value= highofstartdate\n",
    "lowofstartdate = getlowofadate(symbol,sheet['C4'].value)\n",
    "sheet['C6'].value = lowofstartdate\n",
    "highofenddate = gethighofadate(symbol,sheet['D4'].value)\n",
    "sheet['D5'].value= highofenddate\n",
    "lowofenddate = getlowofadate(symbol,sheet['D4'].value)\n",
    "sheet['D6'].value = lowofenddate\n",
    "maxof2days = max(highofstartdate,highofenddate)\n",
    "sheet['E5'].value = maxof2days\n",
    "minof2days = min(lowofstartdate,lowofenddate)\n",
    "sheet['E6'].value = minof2days\n",
    "bufferhigh = round(maxof2days * 1.0015)\n",
    "sheet['F5'].value = bufferhigh\n",
    "bufferlow = round(minof2days * 0.9985)\n",
    "sheet['F6'].value = bufferlow\n",
    "callendstrike = round_down_to_base(bufferlow)\n",
    "sheet['K5'].value = callendstrike\n",
    "putendstrike = round_up_to_base(bufferhigh)\n",
    "sheet['K6'].value = putendstrike"
   ]
  },
  {
   "cell_type": "code",
   "execution_count": 14,
   "id": "21de76e4-77f0-4c38-8bb4-d5628411b387",
   "metadata": {},
   "outputs": [
    {
     "name": "stdout",
     "output_type": "stream",
     "text": [
      "[21600]\n",
      "[183.60000000000002]\n",
      "[256.65]\n"
     ]
    }
   ],
   "source": [
    "# finding CallEntryStrike 1st row\n",
    "symbol = \"NIFTY\"\n",
    "start_date = sheet['C4'].value\n",
    "end_date = sheet['D4'].value\n",
    "expiry_date = sheet['J3'].value\n",
    "instrumentType = \"options\"\n",
    "strike = []\n",
    "premium = []\n",
    "twodll = []\n",
    "strike.append(callendstrike)\n",
    "temppremium = callendstrike * (0.85/100)\n",
    "premium.append(temppremium)\n",
    "temptwodll = derivativehistorycallgetlowvalue(symbol,start_date,end_date,instrumentType,expiry_date,strikePrice=strike[0])\n",
    "twodll.append(temptwodll)"
   ]
  },
  {
   "cell_type": "code",
   "execution_count": 23,
   "id": "f2cc6bce-e8b2-4bf4-9023-7e0ba6f6d29b",
   "metadata": {},
   "outputs": [
    {
     "name": "stdout",
     "output_type": "stream",
     "text": [
      "   strike  premium  twodll   diff\n",
      "0   21600  183.600  256.65  73.05\n",
      "1   21650  184.025  226.25  42.22\n",
      "2   21700  184.450  197.00  12.55\n",
      "3   21750  184.875  171.40 -13.47\n",
      "12.55\n"
     ]
    }
   ],
   "source": [
    "# Call Entry strke 2....n rows\n",
    "for i in range(1,9):\n",
    "    if twodll[-1] >= premium[-1]:\n",
    "        strike.append(strike[-1]+50)\n",
    "        premium.append(strike[-1]* (0.85/100))\n",
    "        twodll.append(derivativehistorycallgetlowvalue(symbol,start_date,end_date,instrumentType,expiry_date,strikePrice=strike[-1]))\n",
    "    else:\n",
    "        break\n",
    "calldf = pd.DataFrame({\"strike\":strike,\"premium\":premium,\"twodll\":twodll})\n",
    "calldf['diff']=round(calldf['twodll']-calldf['premium'],2)\n",
    "print (calldf)\n",
    "leastdiff = calldf.loc[calldf['diff']>0,'diff'].min()\n",
    "leastdiff = round(leastdiff,2)\n",
    "print (leastdiff)\n",
    "    \n"
   ]
  },
  {
   "cell_type": "code",
   "execution_count": null,
   "id": "3b14ac89-410b-4c82-9ca3-1ca293caa6cd",
   "metadata": {},
   "outputs": [],
   "source": []
  }
 ],
 "metadata": {
  "kernelspec": {
   "display_name": "Python 3 (ipykernel)",
   "language": "python",
   "name": "python3"
  },
  "language_info": {
   "codemirror_mode": {
    "name": "ipython",
    "version": 3
   },
   "file_extension": ".py",
   "mimetype": "text/x-python",
   "name": "python",
   "nbconvert_exporter": "python",
   "pygments_lexer": "ipython3",
   "version": "3.12.2"
  }
 },
 "nbformat": 4,
 "nbformat_minor": 5
}
